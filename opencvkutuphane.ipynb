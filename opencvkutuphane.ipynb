{
 "cells": [
  {
   "cell_type": "markdown",
   "id": "ebfa1415-77ef-4991-9a36-5cfa1cb92932",
   "metadata": {},
   "source": [
    "### OpenCv Kütüphanesi Kullanımı\n",
    "OpenCv kütüphanesi kullanarak aşağıdaki işlemler yapılabilir:\n",
    "\n",
    "1- \n",
    "2- \n",
    "3- \n",
    ".\n",
    "."
   ]
  },
  {
   "cell_type": "markdown",
   "id": "bf8597a7-af19-4875-9ea5-9fb77b63b804",
   "metadata": {},
   "source": [
    "### 0- Kütüphanenin kurulumu"
   ]
  },
  {
   "cell_type": "code",
   "execution_count": null,
   "id": "e8300d50-497c-42e1-ac2b-cc458bffa579",
   "metadata": {},
   "outputs": [],
   "source": [
    "pip install opencv-python\n",
    "#Bu kod satırı open cv nin çalışması için gerekli olan kütüphanedir"
   ]
  },
  {
   "cell_type": "markdown",
   "id": "3a012d5b-7d9d-4b64-82fd-0539628cd9ab",
   "metadata": {},
   "source": [
    "### 1- "
   ]
  },
  {
   "cell_type": "code",
   "execution_count": null,
   "id": "16af5290-9980-42ea-86f9-c4266926ae24",
   "metadata": {},
   "outputs": [],
   "source": [
    "#RESİM YÜKLEMEK VE GÖRÜNTÜLEMEK\n",
    "\n",
    "import cv2\n",
    "# Resmi yükleme kısmı\n",
    "\n",
    "image = cv2.imread('agac.jpg')\n",
    "#cv2.imread() fonksiyonunu kullanmak 'agac.jpg' adlı resmi bilgisayardan yüklememizi saglar ve image adlı bir değişkene atama yapar.\n",
    "\n",
    "# Resmi gösterME kısmı\n",
    "cv2.imshow('agac', image)\n",
    "cv2.waitKey(0)\n",
    "cv2.destroyAllWindows()\n",
    "\n",
    "#cv2.imshow() fonksiyonunu kullanmak image değişkenindeki resmi ekranda gösterir.\n",
    "#cv2.waitKey(0) kullanıcı bir tuşa basana kadar bekler. Verilen 0 değeri, sonsuza kadar beklememizi sağlar.\n",
    "#cv2.destroyAllWindows() tüm pencereleri kapatır ve programı sonlandırır. Bu şekilde kullanıcı bir tuşa basana kadar pencerenin açık kalmasını sağlar.\n",
    "\n",
    "\n"
   ]
  },
  {
   "cell_type": "markdown",
   "id": "474f1e1f-1f51-4097-b13b-2997d2f13464",
   "metadata": {},
   "source": [
    "### 2- "
   ]
  },
  {
   "cell_type": "code",
   "execution_count": null,
   "id": "3be2c9b7-6708-4de3-9ab5-215ce741fef0",
   "metadata": {},
   "outputs": [],
   "source": [
    "#RESMİ GRİLEŞTİRMEK\n",
    "\n",
    "\n",
    "import cv2\n",
    "#Burada cv2 adında bir Python modülünü içe aktarır. Bu modül sayesinde OpenCV kütüphanesini kullanma imkanı sağlar.\n",
    "\n",
    "\n",
    "# Resmi yükler\n",
    "image = cv2.imread('araba.jpg')\n",
    "#cv2.imread() fonksiyonunu kullanarak 'araba.jpg' adlı bir resmi diskten yükler ve image adlı bir değişkene atama yapar.\n",
    "\n",
    "\n",
    "# Resmiyi grileştirme kısmı\n",
    "gray_image = cv2.cvtColor(image, cv2.COLOR_BGR2GRAY)\n",
    "#cv2.cvtColor() fonksiyonunu kullanmak image değişkenindeki renkli resmi gri tonlarında ki bir resme dönüştürür. Dönüştürme işlemi için \"cv2.COLOR_BGR2GRAY\"  kullanılır.\n",
    "\n",
    "# Grileştirilmiş resmi göster\n",
    "cv2.imshow('araba Image', gray_image)\n",
    "cv2.waitKey(0)\n",
    "cv2.destroyAllWindows()\n",
    "#cv2.imshow() fonksiyonunu kullanmak gray_image değişkenindeki gri tonlamalı resmi ekranda gösterir. Pencere başlığı 'Grayscale Image' olarak belirlenmiştir.\n",
    "#cv2.waitKey(0) kullanıcı bir tuşa basana kadar bekletir. Parametre olarak verilen 0 değeri ile sonsuza kadar beklememizi sağlar.\n",
    "#cv2.destroyAllWindows() tüm pencereleri kapatır ve programı sonlandırma işlemi yapar. Bu sayede kullanıcı bir tuşa basana kadar pencerenin açık kalmasını sağlar.\n"
   ]
  },
  {
   "cell_type": "markdown",
   "id": "1384bf1c-b05d-4ff2-a44b-0740b99eba31",
   "metadata": {},
   "source": [
    "3-"
   ]
  },
  {
   "cell_type": "code",
   "execution_count": 1,
   "id": "b265a851-406a-49c5-af2f-3e8cfaf6087f",
   "metadata": {},
   "outputs": [
    {
     "ename": "ModuleNotFoundError",
     "evalue": "No module named 'cv2'",
     "output_type": "error",
     "traceback": [
      "\u001b[1;31m---------------------------------------------------------------------------\u001b[0m",
      "\u001b[1;31mModuleNotFoundError\u001b[0m                       Traceback (most recent call last)",
      "Cell \u001b[1;32mIn[1], line 3\u001b[0m\n\u001b[0;32m      1\u001b[0m \u001b[38;5;66;03m#RESMİ AYNALAŞTIRMAK\u001b[39;00m\n\u001b[1;32m----> 3\u001b[0m \u001b[38;5;28;01mimport\u001b[39;00m \u001b[38;5;21;01mcv2\u001b[39;00m\n\u001b[0;32m      4\u001b[0m \u001b[38;5;66;03m#cv2 adında bir Python modülünü içe aktarıp, OpenCV kütüphanesini kullanmamıza imkan sağlar.\u001b[39;00m\n\u001b[0;32m      5\u001b[0m \n\u001b[0;32m      6\u001b[0m \n\u001b[0;32m      7\u001b[0m \u001b[38;5;66;03m# Resmi yükle\u001b[39;00m\n\u001b[0;32m      8\u001b[0m image \u001b[38;5;241m=\u001b[39m cv2\u001b[38;5;241m.\u001b[39mimread(\u001b[38;5;124m'\u001b[39m\u001b[38;5;124mkadın.jpg\u001b[39m\u001b[38;5;124m'\u001b[39m)\n",
      "\u001b[1;31mModuleNotFoundError\u001b[0m: No module named 'cv2'"
     ]
    }
   ],
   "source": [
    "#RESMİ AYNALAŞTIRMAK\n",
    "\n",
    "import cv2\n",
    "#cv2 adında bir Python modülünü içe aktarıp, OpenCV kütüphanesini kullanmamıza imkan sağlar.\n",
    "\n",
    "\n",
    "# Resmi yükle\n",
    "image = cv2.imread('kadın.jpg')\n",
    "#'kadın.jpg' adlı bir resmi diskten yükler ve image adlı bir değişkene atar.\n",
    "\n",
    "# Resmi aynalama yapmak\n",
    "flipped_image = cv2.flip(image, 1)  \n",
    "# 1: Yatay olarak aynalama yapar, 0: Dikey olarak aynalama yapar, -1: Her iki yönde de aynalama yapar\n",
    "\n",
    "# Aynalanmış resmi göster\n",
    "cv2.imshow('kadın', flipped_image)\n",
    "cv2.waitKey(0)\n",
    "cv2.destroyAllWindows()\n",
    "\n",
    "#cv2.imshow() fonksiyonunu kullanarak flipped_image değişkenindeki aynalanmış resmi ekranda gösterir. Pencere başlığı 'Flipped Image' olarak belirler.\n",
    "#cv2.waitKey(0) kullanıcı bir tuşa basana kadar bekler. Parametre olarak verilen 0 değeri, sonsuza kadar beklemesini sağlar.\n",
    "#cv2.destroyAllWindows() tüm pencereleri kapatıp ve programı sonlandırır. Bu sayede kullanıcı bir tuşa basana kadar pencerenin açık kalmasını sağlar.\n",
    "\n",
    "\n"
   ]
  },
  {
   "cell_type": "code",
   "execution_count": null,
   "id": "1f8e4f00-3502-461b-aadf-2b4f2b72b9d7",
   "metadata": {},
   "outputs": [],
   "source": []
  },
  {
   "cell_type": "code",
   "execution_count": null,
   "id": "cdd6cedb-70b0-4b92-bb7e-406f08523a2e",
   "metadata": {},
   "outputs": [],
   "source": []
  },
  {
   "cell_type": "code",
   "execution_count": null,
   "id": "5cc6ca5b-4cdb-4c00-bb8f-4f372fe40855",
   "metadata": {},
   "outputs": [],
   "source": []
  },
  {
   "cell_type": "code",
   "execution_count": null,
   "id": "1b421299-93ba-4bd3-b834-9b7e6a312c1e",
   "metadata": {},
   "outputs": [],
   "source": []
  },
  {
   "cell_type": "code",
   "execution_count": null,
   "id": "780699fa-ba1e-4afe-98ed-cca0059e16de",
   "metadata": {},
   "outputs": [],
   "source": []
  },
  {
   "cell_type": "code",
   "execution_count": null,
   "id": "f4392b19-df68-4bf0-8974-6baead62cb74",
   "metadata": {},
   "outputs": [],
   "source": []
  },
  {
   "cell_type": "code",
   "execution_count": null,
   "id": "42a66bc3-468c-44c7-ace2-f83b2d611b61",
   "metadata": {},
   "outputs": [],
   "source": []
  },
  {
   "cell_type": "code",
   "execution_count": null,
   "id": "39071b4b-7e50-4920-945c-8af91e227959",
   "metadata": {},
   "outputs": [],
   "source": []
  },
  {
   "cell_type": "code",
   "execution_count": null,
   "id": "947cfdb4-7757-408b-a599-bf40a73330b4",
   "metadata": {},
   "outputs": [],
   "source": []
  },
  {
   "cell_type": "code",
   "execution_count": null,
   "id": "fffc23d4-6bc7-412e-b776-cde8891ec8a7",
   "metadata": {},
   "outputs": [],
   "source": []
  }
 ],
 "metadata": {
  "kernelspec": {
   "display_name": "Python 3 (ipykernel)",
   "language": "python",
   "name": "python3"
  },
  "language_info": {
   "codemirror_mode": {
    "name": "ipython",
    "version": 3
   },
   "file_extension": ".py",
   "mimetype": "text/x-python",
   "name": "python",
   "nbconvert_exporter": "python",
   "pygments_lexer": "ipython3",
   "version": "3.12.3"
  }
 },
 "nbformat": 4,
 "nbformat_minor": 5
}
